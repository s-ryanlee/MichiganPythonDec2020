{
  "nbformat": 4,
  "nbformat_minor": 0,
  "metadata": {
    "colab": {
      "name": "AmazonBooksExampleNotebook.ipynb",
      "provenance": [],
      "authorship_tag": "ABX9TyOi55fguSX77YJV5Sw6glyH",
      "include_colab_link": true
    },
    "kernelspec": {
      "name": "python3",
      "display_name": "Python 3"
    }
  },
  "cells": [
    {
      "cell_type": "markdown",
      "metadata": {
        "id": "view-in-github",
        "colab_type": "text"
      },
      "source": [
        "<a href=\"https://colab.research.google.com/github/s-ryanlee/MichiganPythonDec2020/blob/main/AmazonBooksExampleNotebook.ipynb\" target=\"_parent\"><img src=\"https://colab.research.google.com/assets/colab-badge.svg\" alt=\"Open In Colab\"/></a>"
      ]
    },
    {
      "cell_type": "markdown",
      "metadata": {
        "id": "mM_l3Ods7izq"
      },
      "source": [
        "Import packages"
      ]
    },
    {
      "cell_type": "code",
      "metadata": {
        "id": "WcdwKDH30Qr3"
      },
      "source": [
        "import pandas as pd\n",
        "import seaborn as sns\n",
        "import numpy as np\n",
        "import matplotlib.pyplot as plt"
      ],
      "execution_count": null,
      "outputs": []
    },
    {
      "cell_type": "markdown",
      "metadata": {
        "id": "9EdbAJ5S7fkZ"
      },
      "source": [
        "Read file into program"
      ]
    },
    {
      "cell_type": "code",
      "metadata": {
        "colab": {
          "base_uri": "https://localhost:8080/"
        },
        "id": "pk5oG4pi0dW0",
        "outputId": "c4434221-b5df-4d60-f5aa-8f7b5fd8d5d2"
      },
      "source": [
        "df = pd.read_csv('https://raw.githubusercontent.com/s-ryanlee/MiPyExample/main/bestsellers%20with%20categories.csv')\n",
        "df.rename(columns={'User Rating': 'User_Rating'}, inplace=True)\n",
        "print(df)"
      ],
      "execution_count": null,
      "outputs": [
        {
          "output_type": "stream",
          "text": [
            "                                                  Name  ...        Genre\n",
            "0                        10-Day Green Smoothie Cleanse  ...  Non Fiction\n",
            "1                                    11/22/63: A Novel  ...      Fiction\n",
            "2              12 Rules for Life: An Antidote to Chaos  ...  Non Fiction\n",
            "3                               1984 (Signet Classics)  ...      Fiction\n",
            "4    5,000 Awesome Facts (About Everything!) (Natio...  ...  Non Fiction\n",
            "..                                                 ...  ...          ...\n",
            "545       Wrecking Ball (Diary of a Wimpy Kid Book 14)  ...      Fiction\n",
            "546  You Are a Badass: How to Stop Doubting Your Gr...  ...  Non Fiction\n",
            "547  You Are a Badass: How to Stop Doubting Your Gr...  ...  Non Fiction\n",
            "548  You Are a Badass: How to Stop Doubting Your Gr...  ...  Non Fiction\n",
            "549  You Are a Badass: How to Stop Doubting Your Gr...  ...  Non Fiction\n",
            "\n",
            "[550 rows x 7 columns]\n"
          ],
          "name": "stdout"
        }
      ]
    },
    {
      "cell_type": "markdown",
      "metadata": {
        "id": "8HrQEw1QS8aj"
      },
      "source": [
        "Let's say we only want to look at non fiction best sellers"
      ]
    },
    {
      "cell_type": "code",
      "metadata": {
        "colab": {
          "base_uri": "https://localhost:8080/"
        },
        "id": "hXY18erYS75U",
        "outputId": "cbc694c7-8041-416e-b520-85166951d27b"
      },
      "source": [
        "nonfiction_bestsellers = df[(df.Genre == 'Non Fiction')]\n",
        "print(nonfiction_bestsellers)"
      ],
      "execution_count": null,
      "outputs": [
        {
          "output_type": "stream",
          "text": [
            "                                                  Name  ...        Genre\n",
            "0                        10-Day Green Smoothie Cleanse  ...  Non Fiction\n",
            "2              12 Rules for Life: An Antidote to Chaos  ...  Non Fiction\n",
            "4    5,000 Awesome Facts (About Everything!) (Natio...  ...  Non Fiction\n",
            "8        A Higher Loyalty: Truth, Lies, and Leadership  ...  Non Fiction\n",
            "11   A Patriot's History of the United States: From...  ...  Non Fiction\n",
            "..                                                 ...  ...          ...\n",
            "539  Women Food and God: An Unexpected Path to Almo...  ...  Non Fiction\n",
            "546  You Are a Badass: How to Stop Doubting Your Gr...  ...  Non Fiction\n",
            "547  You Are a Badass: How to Stop Doubting Your Gr...  ...  Non Fiction\n",
            "548  You Are a Badass: How to Stop Doubting Your Gr...  ...  Non Fiction\n",
            "549  You Are a Badass: How to Stop Doubting Your Gr...  ...  Non Fiction\n",
            "\n",
            "[310 rows x 7 columns]\n"
          ],
          "name": "stdout"
        }
      ]
    },
    {
      "cell_type": "markdown",
      "metadata": {
        "id": "0ItmZd788HTx"
      },
      "source": [
        "#Data Exploration"
      ]
    },
    {
      "cell_type": "markdown",
      "metadata": {
        "id": "RtnrYHeO7bpB"
      },
      "source": [
        "Check variable correlations"
      ]
    },
    {
      "cell_type": "code",
      "metadata": {
        "colab": {
          "base_uri": "https://localhost:8080/",
          "height": 372
        },
        "id": "gG2Z-5wr23PK",
        "outputId": "b2e47669-0dcd-44af-ff33-e26ad399ceb3"
      },
      "source": [
        "corr_coe = nonfiction_bestsellers.corr()\n",
        "print(corr_coe)\n",
        "sns.heatmap(corr_coe)"
      ],
      "execution_count": null,
      "outputs": [
        {
          "output_type": "stream",
          "text": [
            "             User_Rating   Reviews     Price      Year\n",
            "User_Rating     1.000000  0.315612 -0.134869  0.228196\n",
            "Reviews         0.315612  1.000000 -0.145563  0.414921\n",
            "Price          -0.134869 -0.145563  1.000000 -0.165569\n",
            "Year            0.228196  0.414921 -0.165569  1.000000\n"
          ],
          "name": "stdout"
        },
        {
          "output_type": "execute_result",
          "data": {
            "text/plain": [
              "<matplotlib.axes._subplots.AxesSubplot at 0x7f8e9d6947b8>"
            ]
          },
          "metadata": {
            "tags": []
          },
          "execution_count": 53
        },
        {
          "output_type": "display_data",
          "data": {
            "image/png": "[encoded data removed]",
            "text/plain": [
              "<Figure size 432x288 with 2 Axes>"
            ]
          },
          "metadata": {
            "tags": [],
            "needs_background": "light"
          }
        }
      ]
    },
    {
      "cell_type": "markdown",
      "metadata": {
        "id": "G6mOfXCZ7uBG"
      },
      "source": [
        "Simple visualizations"
      ]
    },
    {
      "cell_type": "code",
      "metadata": {
        "colab": {
          "base_uri": "https://localhost:8080/",
          "height": 558
        },
        "id": "JQlzR7yu2nv0",
        "outputId": "680123b1-c536-4e33-f076-2ad3e79ced2a"
      },
      "source": [
        "#scatterplot using seaborn\n",
        "sns.scatterplot(data=nonfiction_bestsellers, x='Year', y='Reviews')\n",
        "\n",
        "#scatterplot using matplotlib\n",
        "nonfiction_bestsellers.plot('Year', 'User_Rating', kind='scatter')"
      ],
      "execution_count": null,
      "outputs": [
        {
          "output_type": "execute_result",
          "data": {
            "text/plain": [
              "<matplotlib.axes._subplots.AxesSubplot at 0x7f8e9d5078d0>"
            ]
          },
          "metadata": {
            "tags": []
          },
          "execution_count": 55
        },
        {
          "output_type": "display_data",
          "data": {
            "image/png": "[encoded data removed]",
            "text/plain": [
              "<Figure size 432x288 with 1 Axes>"
            ]
          },
          "metadata": {
            "tags": [],
            "needs_background": "light"
          }
        },
        {
          "output_type": "display_data",
          "data": {
            "image/png": "[encoded data removed]",
            "text/plain": [
              "<Figure size 432x288 with 1 Axes>"
            ]
          },
          "metadata": {
            "tags": [],
            "needs_background": "light"
          }
        }
      ]
    },
    {
      "cell_type": "markdown",
      "metadata": {
        "id": "SvtYs6b079hJ"
      },
      "source": [
        "#Basic Linear Regression"
      ]
    },
    {
      "cell_type": "markdown",
      "metadata": {
        "id": "Jc_KGKBB72ox"
      },
      "source": [
        "Change pandas data frame series to a numpy array"
      ]
    },
    {
      "cell_type": "code",
      "metadata": {
        "id": "sStCkqjZ26hb"
      },
      "source": [
        "x1 = nonfiction_bestsellers[['Year']].to_numpy()\n",
        "y1 = nonfiction_bestsellers['Reviews'].to_numpy()\n",
        "#print(x1, y1)"
      ],
      "execution_count": null,
      "outputs": []
    },
    {
      "cell_type": "markdown",
      "metadata": {
        "id": "w-O8y7wA8Qt5"
      },
      "source": [
        "Create Model and view correlation coefficient and intercept value"
      ]
    },
    {
      "cell_type": "code",
      "metadata": {
        "colab": {
          "base_uri": "https://localhost:8080/"
        },
        "id": "0FzDEHFJ5TNr",
        "outputId": "ed48d3e4-3fc4-41d4-ec4e-96813d6d9d78"
      },
      "source": [
        "from sklearn import linear_model\n",
        "model = linear_model.LinearRegression()\n",
        "model.fit(x1, y1)\n",
        "print(model.coef_, model.intercept_)"
      ],
      "execution_count": null,
      "outputs": [
        {
          "output_type": "stream",
          "text": [
            "[1120.80267899] -2248296.52919001\n"
          ],
          "name": "stdout"
        }
      ]
    },
    {
      "cell_type": "markdown",
      "metadata": {
        "id": "dcvJmWUB-_Lp"
      },
      "source": [
        "Apply regression line to plot"
      ]
    },
    {
      "cell_type": "code",
      "metadata": {
        "colab": {
          "base_uri": "https://localhost:8080/",
          "height": 279
        },
        "id": "pkc7Zlpn7X1j",
        "outputId": "b76c6276-ae2d-402c-9980-fc2f1d930a30"
      },
      "source": [
        "nonfiction_bestsellers.plot('Year', 'Reviews', kind='scatter')\n",
        "predict = model.predict(x1)\n",
        "plt.plot(x1, model.predict(x1))\n",
        "plt.show()"
      ],
      "execution_count": null,
      "outputs": [
        {
          "output_type": "display_data",
          "data": {
            "image/png": "[encoded data removed]",
            "text/plain": [
              "<Figure size 432x288 with 1 Axes>"
            ]
          },
          "metadata": {
            "tags": [],
            "needs_background": "light"
          }
        }
      ]
    },
    {
      "cell_type": "markdown",
      "metadata": {
        "id": "NSCsqWZ2CbNw"
      },
      "source": [
        "This is an brief overview of the way my team members plotted their regression during our analysis of Covid-19 data. Unfortunately, at the time, I had very limited experience with using Python for data analysis. They went a few steps further to find information on the accuracy of their models using sklearn.\n",
        "\n",
        "I am still exploring some of the basics of this package and have yet to figure out how to analyze the regression model further than this.\n",
        "\n",
        "Even so, I later learned of some statistics specific libraries that made performing regression analysis quite simple in Python, which can be seen below."
      ]
    },
    {
      "cell_type": "code",
      "metadata": {
        "colab": {
          "base_uri": "https://localhost:8080/"
        },
        "id": "ym5Uwc89CaFB",
        "outputId": "4143d798-eb54-4216-fec2-197dac680813"
      },
      "source": [
        "import statsmodels.api as sm\n",
        "import statsmodels.formula.api as smf"
      ],
      "execution_count": null,
      "outputs": [
        {
          "output_type": "stream",
          "text": [
            "/usr/local/lib/python3.6/dist-packages/statsmodels/tools/_testing.py:19: FutureWarning: pandas.util.testing is deprecated. Use the functions in the public API at pandas.testing instead.\n",
            "  import pandas.util.testing as tm\n"
          ],
          "name": "stderr"
        }
      ]
    },
    {
      "cell_type": "code",
      "metadata": {
        "colab": {
          "base_uri": "https://localhost:8080/",
          "height": 478
        },
        "id": "hX_meumE_Bl5",
        "outputId": "20012986-0e9c-403a-af08-4d99454a2cd1"
      },
      "source": [
        "model2 = smf.ols(\"Reviews ~ Year\", data=df).fit()\n",
        "model2.summary()"
      ],
      "execution_count": null,
      "outputs": [
        {
          "output_type": "execute_result",
          "data": {
            "text/html": [
              "<table class=\"simpletable\">\n",
              "<caption>OLS Regression Results</caption>\n",
              "<tr>\n",
              "  <th>Dep. Variable:</th>         <td>Reviews</td>     <th>  R-squared:         </th> <td>   0.069</td> \n",
              "</tr>\n",
              "<tr>\n",
              "  <th>Model:</th>                   <td>OLS</td>       <th>  Adj. R-squared:    </th> <td>   0.068</td> \n",
              "</tr>\n",
              "<tr>\n",
              "  <th>Method:</th>             <td>Least Squares</td>  <th>  F-statistic:       </th> <td>   40.91</td> \n",
              "</tr>\n",
              "<tr>\n",
              "  <th>Date:</th>             <td>Thu, 03 Dec 2020</td> <th>  Prob (F-statistic):</th> <td>3.42e-10</td> \n",
              "</tr>\n",
              "<tr>\n",
              "  <th>Time:</th>                 <td>01:58:01</td>     <th>  Log-Likelihood:    </th> <td> -5913.6</td> \n",
              "</tr>\n",
              "<tr>\n",
              "  <th>No. Observations:</th>      <td>   550</td>      <th>  AIC:               </th> <td>1.183e+04</td>\n",
              "</tr>\n",
              "<tr>\n",
              "  <th>Df Residuals:</th>          <td>   548</td>      <th>  BIC:               </th> <td>1.184e+04</td>\n",
              "</tr>\n",
              "<tr>\n",
              "  <th>Df Model:</th>              <td>     1</td>      <th>                     </th>     <td> </td>    \n",
              "</tr>\n",
              "<tr>\n",
              "  <th>Covariance Type:</th>      <td>nonrobust</td>    <th>                     </th>     <td> </td>    \n",
              "</tr>\n",
              "</table>\n",
              "<table class=\"simpletable\">\n",
              "<tr>\n",
              "      <td></td>         <th>coef</th>     <th>std err</th>      <th>t</th>      <th>P>|t|</th>  <th>[0.025</th>    <th>0.975]</th>  \n",
              "</tr>\n",
              "<tr>\n",
              "  <th>Intercept</th> <td>-1.955e+06</td> <td> 3.08e+05</td> <td>   -6.357</td> <td> 0.000</td> <td>-2.56e+06</td> <td>-1.35e+06</td>\n",
              "</tr>\n",
              "<tr>\n",
              "  <th>Year</th>      <td>  976.8404</td> <td>  152.729</td> <td>    6.396</td> <td> 0.000</td> <td>  676.835</td> <td> 1276.846</td>\n",
              "</tr>\n",
              "</table>\n",
              "<table class=\"simpletable\">\n",
              "<tr>\n",
              "  <th>Omnibus:</th>       <td>318.766</td> <th>  Durbin-Watson:     </th> <td>   1.112</td>\n",
              "</tr>\n",
              "<tr>\n",
              "  <th>Prob(Omnibus):</th> <td> 0.000</td>  <th>  Jarque-Bera (JB):  </th> <td>2455.038</td>\n",
              "</tr>\n",
              "<tr>\n",
              "  <th>Skew:</th>          <td> 2.506</td>  <th>  Prob(JB):          </th> <td>    0.00</td>\n",
              "</tr>\n",
              "<tr>\n",
              "  <th>Kurtosis:</th>      <td>12.055</td>  <th>  Cond. No.          </th> <td>1.28e+06</td>\n",
              "</tr>\n",
              "</table><br/><br/>Warnings:<br/>[1] Standard Errors assume that the covariance matrix of the errors is correctly specified.<br/>[2] The condition number is large, 1.28e+06. This might indicate that there are<br/>strong multicollinearity or other numerical problems."
            ],
            "text/plain": [
              "<class 'statsmodels.iolib.summary.Summary'>\n",
              "\"\"\"\n",
              "                            OLS Regression Results                            \n",
              "==============================================================================\n",
              "Dep. Variable:                Reviews   R-squared:                       0.069\n",
              "Model:                            OLS   Adj. R-squared:                  0.068\n",
              "Method:                 Least Squares   F-statistic:                     40.91\n",
              "Date:                Thu, 03 Dec 2020   Prob (F-statistic):           3.42e-10\n",
              "Time:                        01:58:01   Log-Likelihood:                -5913.6\n",
              "No. Observations:                 550   AIC:                         1.183e+04\n",
              "Df Residuals:                     548   BIC:                         1.184e+04\n",
              "Df Model:                           1                                         \n",
              "Covariance Type:            nonrobust                                         \n",
              "==============================================================================\n",
              "                 coef    std err          t      P>|t|      [0.025      0.975]\n",
              "------------------------------------------------------------------------------\n",
              "Intercept  -1.955e+06   3.08e+05     -6.357      0.000   -2.56e+06   -1.35e+06\n",
              "Year         976.8404    152.729      6.396      0.000     676.835    1276.846\n",
              "==============================================================================\n",
              "Omnibus:                      318.766   Durbin-Watson:                   1.112\n",
              "Prob(Omnibus):                  0.000   Jarque-Bera (JB):             2455.038\n",
              "Skew:                           2.506   Prob(JB):                         0.00\n",
              "Kurtosis:                      12.055   Cond. No.                     1.28e+06\n",
              "==============================================================================\n",
              "\n",
              "Warnings:\n",
              "[1] Standard Errors assume that the covariance matrix of the errors is correctly specified.\n",
              "[2] The condition number is large, 1.28e+06. This might indicate that there are\n",
              "strong multicollinearity or other numerical problems.\n",
              "\"\"\""
            ]
          },
          "metadata": {
            "tags": []
          },
          "execution_count": 59
        }
      ]
    },
    {
      "cell_type": "markdown",
      "metadata": {
        "id": "uW3X6dmvEdV3"
      },
      "source": [
        "With two lines of code, we can output a nice display. \n",
        "Unfortunatley, with this package, must use quotes a bit more often because of literal strings. \n",
        "But, allows you to use R-style formulas in python and outputs R-like summary. \n",
        "For someone that learned most data analysis in R first, this package is much easier to use at the moment than sklearn. \n",
        "\n",
        "We can go a bit further in our analysis by analyzing the residuals"
      ]
    },
    {
      "cell_type": "code",
      "metadata": {
        "colab": {
          "base_uri": "https://localhost:8080/"
        },
        "id": "-czb8JT6GGHm",
        "outputId": "04cba32b-d5b1-4f72-f0ee-9ef5eafb9239"
      },
      "source": [
        "model2.resid"
      ],
      "execution_count": null,
      "outputs": [
        {
          "output_type": "execute_result",
          "data": {
            "text/plain": [
              "0      3443.037455\n",
              "1     -6970.760727\n",
              "2      3118.356727\n",
              "3      6540.197091\n",
              "4     -9172.483636\n",
              "          ...     \n",
              "545   -7424.483636\n",
              "546     424.037455\n",
              "547    -552.802909\n",
              "548   -1529.643273\n",
              "549   -2506.483636\n",
              "Length: 550, dtype: float64"
            ]
          },
          "metadata": {
            "tags": []
          },
          "execution_count": 60
        }
      ]
    },
    {
      "cell_type": "markdown",
      "metadata": {
        "id": "B8EpHZYqGLCN"
      },
      "source": [
        "And create a histogram of residuals"
      ]
    },
    {
      "cell_type": "code",
      "metadata": {
        "colab": {
          "base_uri": "https://localhost:8080/",
          "height": 282
        },
        "id": "cVxIcMudGI5-",
        "outputId": "ff9ff54d-ba59-4a2d-fa43-34b96a3db85e"
      },
      "source": [
        "sns.histplot(model2.resid)"
      ],
      "execution_count": null,
      "outputs": [
        {
          "output_type": "execute_result",
          "data": {
            "text/plain": [
              "<matplotlib.axes._subplots.AxesSubplot at 0x7f8e9d538f60>"
            ]
          },
          "metadata": {
            "tags": []
          },
          "execution_count": 61
        },
        {
          "output_type": "display_data",
          "data": {
            "image/png": "[encoded data removed]",
            "text/plain": [
              "<Figure size 432x288 with 1 Axes>"
            ]
          },
          "metadata": {
            "tags": [],
            "needs_background": "light"
          }
        }
      ]
    },
    {
      "cell_type": "markdown",
      "metadata": {
        "id": "JKWUlsFqGTcO"
      },
      "source": [
        "We can also look at a scatterplot of residuals vs. year"
      ]
    },
    {
      "cell_type": "code",
      "metadata": {
        "colab": {
          "base_uri": "https://localhost:8080/",
          "height": 296
        },
        "id": "hAA3kEqLGS2H",
        "outputId": "7d1a5ef5-c74d-4789-ecb6-7ea8d555cde5"
      },
      "source": [
        "sns.scatterplot(x=df['Year'],y=model2.resid)"
      ],
      "execution_count": null,
      "outputs": [
        {
          "output_type": "execute_result",
          "data": {
            "text/plain": [
              "<matplotlib.axes._subplots.AxesSubplot at 0x7f8e9d41ef60>"
            ]
          },
          "metadata": {
            "tags": []
          },
          "execution_count": 62
        },
        {
          "output_type": "display_data",
          "data": {
            "image/png": "[encoded data removed]",
            "text/plain": [
              "<Figure size 432x288 with 1 Axes>"
            ]
          },
          "metadata": {
            "tags": [],
            "needs_background": "light"
          }
        }
      ]
    },
    {
      "cell_type": "markdown",
      "metadata": {
        "id": "ktKcipoMGnlG"
      },
      "source": [
        "pandas series of the values from the regression summary"
      ]
    },
    {
      "cell_type": "code",
      "metadata": {
        "colab": {
          "base_uri": "https://localhost:8080/"
        },
        "id": "w0Mhi0gPGmnu",
        "outputId": "7d9e7518-57da-483d-a2d0-d4917e8342be"
      },
      "source": [
        "model2.params"
      ],
      "execution_count": null,
      "outputs": [
        {
          "output_type": "execute_result",
          "data": {
            "text/plain": [
              "Intercept   -1.955403e+06\n",
              "Year         9.768404e+02\n",
              "dtype: float64"
            ]
          },
          "metadata": {
            "tags": []
          },
          "execution_count": 63
        }
      ]
    },
    {
      "cell_type": "markdown",
      "metadata": {
        "id": "SCzj640NGwDQ"
      },
      "source": [
        "Can also access items in this series using .loc"
      ]
    },
    {
      "cell_type": "code",
      "metadata": {
        "colab": {
          "base_uri": "https://localhost:8080/"
        },
        "id": "V0hWHkKiG8qf",
        "outputId": "db9c7f9a-9888-4409-fc2f-504b09d95b30"
      },
      "source": [
        "model2.params.loc['Year']"
      ],
      "execution_count": null,
      "outputs": [
        {
          "output_type": "execute_result",
          "data": {
            "text/plain": [
              "976.8403636363579"
            ]
          },
          "metadata": {
            "tags": []
          },
          "execution_count": 64
        }
      ]
    }
  ]
}