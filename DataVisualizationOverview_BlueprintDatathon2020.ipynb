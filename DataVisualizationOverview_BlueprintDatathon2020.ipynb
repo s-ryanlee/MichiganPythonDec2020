{
  "nbformat": 4,
  "nbformat_minor": 0,
  "metadata": {
    "anaconda-cloud": {},
    "kernelspec": {
      "display_name": "Python 3",
      "language": "python",
      "name": "python3"
    },
    "language_info": {
      "codemirror_mode": {
        "name": "ipython",
        "version": 3
      },
      "file_extension": ".py",
      "mimetype": "text/x-python",
      "name": "python",
      "nbconvert_exporter": "python",
      "pygments_lexer": "ipython3",
      "version": "3.5.1"
    },
    "colab": {
      "name": "DataVisualizationOverview_BlueprintDatathon2020.ipynb",
      "provenance": [],
      "collapsed_sections": [
        "yni80j_FDupq",
        "EXMMhPdvDup5",
        "Ny8lX-sIDup-",
        "D8TIh1SUDuqD",
        "TqRUAKs5DuqF",
        "R-Zi1b-XDuqJ"
      ],
      "include_colab_link": true
    }
  },
  "cells": [
    {
      "cell_type": "markdown",
      "metadata": {
        "id": "view-in-github",
        "colab_type": "text"
      },
      "source": [
        "<a href=\"https://colab.research.google.com/github/s-ryanlee/MichiganPythonDec2020/blob/main/DataVisualizationOverview_BlueprintDatathon2020.ipynb\" target=\"_parent\"><img src=\"https://colab.research.google.com/assets/colab-badge.svg\" alt=\"Open In Colab\"/></a>"
      ]
    },
    {
      "cell_type": "markdown",
      "metadata": {
        "id": "mh1Zt_vhDupY"
      },
      "source": [
        "<!--BOOK_INFORMATION-->\n",
        "<img align=\"left\" style=\"padding-right:10px;\" src=\"https://github.com/jakevdp/PythonDataScienceHandbook/blob/master/notebooks/figures/PDSH-cover-small.png?raw=1\">\n",
        "\n",
        "*Adapted from the [Python Data Science Handbook](http://shop.oreilly.com/product/0636920034919.do) by Jake VanderPlas; the content is available [on GitHub](https://github.com/jakevdp/PythonDataScienceHandbook).*\n",
        "\n",
        "*The text is released under the [CC-BY-NC-ND license](https://creativecommons.org/licenses/by-nc-nd/3.0/us/legalcode), and code is released under the [MIT license](https://opensource.org/licenses/MIT). If you find this content useful, please consider supporting the work by [buying the book](http://shop.oreilly.com/product/0636920034919.do)!*"
      ]
    },
    {
      "cell_type": "markdown",
      "metadata": {
        "id": "tL1eLhqADupZ"
      },
      "source": [
        "<!--NAVIGATION-->\n",
        "< [Geographic Data with Basemap](04.13-Geographic-Data-With-Basemap.ipynb) | [Contents](Index.ipynb) | [Further Resources](04.15-Further-Resources.ipynb) >\n",
        "\n",
        "<a href=\"https://colab.research.google.com/github/jakevdp/PythonDataScienceHandbook/blob/master/notebooks/04.14-Visualization-With-Seaborn.ipynb\"><img align=\"left\" src=\"https://colab.research.google.com/assets/colab-badge.svg\" alt=\"Open in Colab\" title=\"Open and Execute in Google Colaboratory\"></a>\n"
      ]
    },
    {
      "cell_type": "markdown",
      "metadata": {
        "id": "Vou6SMpBDupa"
      },
      "source": [
        "# Visualization with Seaborn"
      ]
    },
    {
      "cell_type": "markdown",
      "metadata": {
        "id": "3GH4aooBDupa"
      },
      "source": [
        "Matplotlib has proven to be an incredibly useful and popular visualization tool, but even avid users will admit it often leaves much to be desired.\n",
        "There are several valid complaints about Matplotlib that often come up:\n",
        "\n",
        "- Prior to version 2.0, Matplotlib's defaults are not exactly the best choices. It was based off of MATLAB circa 1999, and this often shows.\n",
        "- Matplotlib's API is relatively low level. Doing sophisticated statistical visualization is possible, but often requires a *lot* of boilerplate code.\n",
        "- Matplotlib predated Pandas by more than a decade, and thus is not designed for use with Pandas ``DataFrame``s. In order to visualize data from a Pandas ``DataFrame``, you must extract each ``Series`` and often concatenate them together into the right format. It would be nicer to have a plotting library that can intelligently use the ``DataFrame`` labels in a plot.\n",
        "\n",
        "An answer to these problems is [Seaborn](http://seaborn.pydata.org/). Seaborn provides an API on top of Matplotlib that offers sane choices for plot style and color defaults, defines simple high-level functions for common statistical plot types, and integrates with the functionality provided by Pandas ``DataFrame``s.\n",
        "\n",
        "To be fair, the Matplotlib team is addressing this: it has recently added the ``plt.style`` tools discussed in [Customizing Matplotlib: Configurations and Style Sheets](04.11-Settings-and-Stylesheets.ipynb), and is starting to handle Pandas data more seamlessly.\n",
        "The 2.0 release of the library will include a new default stylesheet that will improve on the current status quo.\n",
        "But for all the reasons just discussed, Seaborn remains an extremely useful addon."
      ]
    },
    {
      "cell_type": "markdown",
      "metadata": {
        "id": "oBRUQwLnDupa"
      },
      "source": [
        "## Seaborn Versus Matplotlib\n",
        "\n",
        "Here is an example of a simple random-walk plot in Matplotlib, using its classic plot formatting and colors.\n",
        "We start with the typical imports:"
      ]
    },
    {
      "cell_type": "code",
      "metadata": {
        "id": "ZZNyESslDupb"
      },
      "source": [
        "import matplotlib.pyplot as plt\n",
        "plt.style.use('classic')\n",
        "%matplotlib inline\n",
        "import numpy as np\n",
        "import pandas as pd"
      ],
      "execution_count": null,
      "outputs": []
    },
    {
      "cell_type": "markdown",
      "metadata": {
        "id": "PYblhDo-Dupe"
      },
      "source": [
        "Now we create some random walk data:"
      ]
    },
    {
      "cell_type": "code",
      "metadata": {
        "id": "tbPBDAmLDupe"
      },
      "source": [
        "# Create some data\n",
        "rng = np.random.RandomState(0)\n",
        "x = np.linspace(0, 10, 500)\n",
        "y = np.cumsum(rng.randn(500, 6), 0)"
      ],
      "execution_count": null,
      "outputs": []
    },
    {
      "cell_type": "markdown",
      "metadata": {
        "id": "zXnd0lpTDupg"
      },
      "source": [
        "And do a simple plot:"
      ]
    },
    {
      "cell_type": "code",
      "metadata": {
        "id": "7rjNSP8wDuph"
      },
      "source": [
        "# Plot the data with Matplotlib defaults\n",
        "plt.plot(x, y)\n",
        "plt.legend('ABCDEF', ncol=2, loc='upper left');"
      ],
      "execution_count": null,
      "outputs": []
    },
    {
      "cell_type": "markdown",
      "metadata": {
        "id": "7h3oOyM0Dupk"
      },
      "source": [
        "Although the result contains all the information we'd like it to convey, it does so in a way that is not all that aesthetically pleasing, and even looks a bit old-fashioned in the context of 21st-century data visualization.\n",
        "\n",
        "Now let's take a look at how it works with Seaborn.\n",
        "As we will see, Seaborn has many of its own high-level plotting routines, but it can also overwrite Matplotlib's default parameters and in turn get even simple Matplotlib scripts to produce vastly superior output.\n",
        "We can set the style by calling Seaborn's ``set()`` method.\n",
        "By convention, Seaborn is imported as ``sns``:"
      ]
    },
    {
      "cell_type": "code",
      "metadata": {
        "id": "xr8xp7SWDupk"
      },
      "source": [
        "import seaborn as sns\n",
        "sns.set()"
      ],
      "execution_count": null,
      "outputs": []
    },
    {
      "cell_type": "markdown",
      "metadata": {
        "id": "AsWtUPy8Dupm"
      },
      "source": [
        "Now let's rerun the same two lines as before:"
      ]
    },
    {
      "cell_type": "code",
      "metadata": {
        "id": "J7NcgVGiDupn"
      },
      "source": [
        "# same plotting code as above!\n",
        "plt.plot(x, y)\n",
        "plt.legend('ABCDEF', ncol=2, loc='upper left');"
      ],
      "execution_count": null,
      "outputs": []
    },
    {
      "cell_type": "markdown",
      "metadata": {
        "id": "PzUkwkU5Dupp"
      },
      "source": [
        "Ah, much better!"
      ]
    },
    {
      "cell_type": "markdown",
      "metadata": {
        "id": "1ClKyYnZDupq"
      },
      "source": [
        "## Exploring Seaborn Plots\n",
        "\n",
        "The main idea of Seaborn is that it provides high-level commands to create a variety of plot types useful for statistical data exploration, and even some statistical model fitting.\n",
        "\n",
        "Let's take a look at a few of the datasets and plot types available in Seaborn. Note that all of the following *could* be done using raw Matplotlib commands (this is, in fact, what Seaborn does under the hood) but the Seaborn API is much more convenient."
      ]
    },
    {
      "cell_type": "markdown",
      "metadata": {
        "id": "yni80j_FDupq"
      },
      "source": [
        "### Histograms, KDE, and densities\n",
        "\n",
        "Often in statistical data visualization, all you want is to plot histograms and joint distributions of variables.\n",
        "We have seen that this is relatively straightforward in Matplotlib:"
      ]
    },
    {
      "cell_type": "code",
      "metadata": {
        "id": "y8rVhNslDupq"
      },
      "source": [
        "data = np.random.multivariate_normal([0, 0], [[5, 2], [2, 2]], size=2000)\n",
        "data = pd.DataFrame(data, columns=['x', 'y'])\n",
        "\n",
        "for col in 'xy':\n",
        "    plt.hist(data[col], normed=True, alpha=0.5)"
      ],
      "execution_count": null,
      "outputs": []
    },
    {
      "cell_type": "markdown",
      "metadata": {
        "id": "58vFyWN2Dups"
      },
      "source": [
        "Rather than a histogram, we can get a smooth estimate of the distribution using a kernel density estimation, which Seaborn does with ``sns.kdeplot``:"
      ]
    },
    {
      "cell_type": "code",
      "metadata": {
        "id": "ByiqNk71Dupt"
      },
      "source": [
        "for col in 'xy':\n",
        "    sns.kdeplot(data[col], shade=True)"
      ],
      "execution_count": null,
      "outputs": []
    },
    {
      "cell_type": "markdown",
      "metadata": {
        "id": "f4A8nEVTDupv"
      },
      "source": [
        "Histograms and KDE can be combined using ``distplot``:"
      ]
    },
    {
      "cell_type": "code",
      "metadata": {
        "id": "ycc8CgQvDupv"
      },
      "source": [
        "sns.distplot(data['x'])\n",
        "sns.distplot(data['y']);"
      ],
      "execution_count": null,
      "outputs": []
    },
    {
      "cell_type": "markdown",
      "metadata": {
        "id": "Md51g51NDupx"
      },
      "source": [
        "If we pass the full two-dimensional dataset to ``kdeplot``, we will get a two-dimensional visualization of the data:"
      ]
    },
    {
      "cell_type": "code",
      "metadata": {
        "id": "yQr-1rIjDupy"
      },
      "source": [
        "sns.kdeplot(data);"
      ],
      "execution_count": null,
      "outputs": []
    },
    {
      "cell_type": "markdown",
      "metadata": {
        "id": "oP5DF0u5Dup0"
      },
      "source": [
        "We can see the joint distribution and the marginal distributions together using ``sns.jointplot``.\n",
        "For this plot, we'll set the style to a white background:"
      ]
    },
    {
      "cell_type": "code",
      "metadata": {
        "id": "TKpMJul9Dup1"
      },
      "source": [
        "with sns.axes_style('white'):\n",
        "    sns.jointplot(\"x\", \"y\", data, kind='kde');"
      ],
      "execution_count": null,
      "outputs": []
    },
    {
      "cell_type": "markdown",
      "metadata": {
        "id": "ECGb1oQLDup3"
      },
      "source": [
        "There are other parameters that can be passed to ``jointplot``—for example, we can use a hexagonally based histogram instead:"
      ]
    },
    {
      "cell_type": "code",
      "metadata": {
        "id": "v6-crn_gDup3"
      },
      "source": [
        "with sns.axes_style('white'):\n",
        "    sns.jointplot(\"x\", \"y\", data, kind='hex')"
      ],
      "execution_count": null,
      "outputs": []
    },
    {
      "cell_type": "markdown",
      "metadata": {
        "id": "EXMMhPdvDup5"
      },
      "source": [
        "### Pair plots\n",
        "\n",
        "When you generalize joint plots to datasets of larger dimensions, you end up with *pair plots*. This is very useful for exploring correlations between multidimensional data, when you'd like to plot all pairs of values against each other.\n",
        "\n",
        "We'll demo this with the well-known Iris dataset, which lists measurements of petals and sepals of three iris species:"
      ]
    },
    {
      "cell_type": "code",
      "metadata": {
        "id": "CjuZPah2Dup5"
      },
      "source": [
        "iris = sns.load_dataset(\"iris\")\n",
        "iris.head()"
      ],
      "execution_count": null,
      "outputs": []
    },
    {
      "cell_type": "markdown",
      "metadata": {
        "id": "QtCg3Pw3Dup8"
      },
      "source": [
        "Visualizing the multidimensional relationships among the samples is as easy as calling ``sns.pairplot``:"
      ]
    },
    {
      "cell_type": "code",
      "metadata": {
        "id": "GCfaxAbuDup8"
      },
      "source": [
        "sns.pairplot(iris, hue='species', size=2.5);"
      ],
      "execution_count": null,
      "outputs": []
    },
    {
      "cell_type": "markdown",
      "metadata": {
        "id": "Ny8lX-sIDup-"
      },
      "source": [
        "### Faceted histograms\n",
        "\n",
        "Sometimes the best way to view data is via histograms of subsets. Seaborn's ``FacetGrid`` makes this extremely simple.\n",
        "We'll take a look at some data that shows the amount that restaurant staff receive in tips based on various indicator data:"
      ]
    },
    {
      "cell_type": "code",
      "metadata": {
        "id": "R8YvHvf3Dup-"
      },
      "source": [
        "tips = sns.load_dataset('tips')\n",
        "tips.head()"
      ],
      "execution_count": null,
      "outputs": []
    },
    {
      "cell_type": "code",
      "metadata": {
        "id": "-g-WdbwgDuqB"
      },
      "source": [
        "tips['tip_pct'] = 100 * tips['tip'] / tips['total_bill']\n",
        "\n",
        "grid = sns.FacetGrid(tips, row=\"sex\", col=\"time\", margin_titles=True)\n",
        "grid.map(plt.hist, \"tip_pct\", bins=np.linspace(0, 40, 15));"
      ],
      "execution_count": null,
      "outputs": []
    },
    {
      "cell_type": "markdown",
      "metadata": {
        "id": "D8TIh1SUDuqD"
      },
      "source": [
        "### Factor plots\n",
        "\n",
        "Factor plots can be useful for this kind of visualization as well. This allows you to view the distribution of a parameter within bins defined by any other parameter:"
      ]
    },
    {
      "cell_type": "code",
      "metadata": {
        "id": "81Sjd-tXDuqD"
      },
      "source": [
        "with sns.axes_style(style='ticks'):\n",
        "    g = sns.factorplot(\"day\", \"total_bill\", \"sex\", data=tips, kind=\"box\")\n",
        "    g.set_axis_labels(\"Day\", \"Total Bill\");"
      ],
      "execution_count": null,
      "outputs": []
    },
    {
      "cell_type": "markdown",
      "metadata": {
        "id": "TqRUAKs5DuqF"
      },
      "source": [
        "### Joint distributions\n",
        "\n",
        "Similar to the pairplot we saw earlier, we can use ``sns.jointplot`` to show the joint distribution between different datasets, along with the associated marginal distributions:"
      ]
    },
    {
      "cell_type": "code",
      "metadata": {
        "id": "aCWkLza6DuqF"
      },
      "source": [
        "with sns.axes_style('white'):\n",
        "    sns.jointplot(\"total_bill\", \"tip\", data=tips, kind='hex')"
      ],
      "execution_count": null,
      "outputs": []
    },
    {
      "cell_type": "markdown",
      "metadata": {
        "id": "FbmYUi6IDuqH"
      },
      "source": [
        "The joint plot can even do some automatic kernel density estimation and regression:"
      ]
    },
    {
      "cell_type": "code",
      "metadata": {
        "id": "Nc0vvfhuDuqH"
      },
      "source": [
        "sns.jointplot(\"total_bill\", \"tip\", data=tips, kind='reg');"
      ],
      "execution_count": null,
      "outputs": []
    },
    {
      "cell_type": "markdown",
      "metadata": {
        "id": "R-Zi1b-XDuqJ"
      },
      "source": [
        "### Bar plots\n",
        "\n",
        "Time series can be plotted using ``sns.factorplot``. In the following example, we'll use the Planets data that we first saw in [Aggregation and Grouping](03.08-Aggregation-and-Grouping.ipynb):"
      ]
    },
    {
      "cell_type": "code",
      "metadata": {
        "id": "VH7Te_PgDuqJ"
      },
      "source": [
        "planets = sns.load_dataset('planets')\n",
        "planets.head()"
      ],
      "execution_count": null,
      "outputs": []
    },
    {
      "cell_type": "code",
      "metadata": {
        "id": "ycCg6KZuDuqK"
      },
      "source": [
        "with sns.axes_style('white'):\n",
        "    g = sns.factorplot(\"year\", data=planets, aspect=2,\n",
        "                       kind=\"count\", color='steelblue')\n",
        "    g.set_xticklabels(step=5)"
      ],
      "execution_count": null,
      "outputs": []
    },
    {
      "cell_type": "markdown",
      "metadata": {
        "id": "NBRAOuSaDuqM"
      },
      "source": [
        "We can learn more by looking at the *method* of discovery of each of these planets:"
      ]
    },
    {
      "cell_type": "code",
      "metadata": {
        "id": "X6Eix3SlDuqM"
      },
      "source": [
        "with sns.axes_style('white'):\n",
        "    g = sns.factorplot(\"year\", data=planets, aspect=4.0, kind='count',\n",
        "                       hue='method', order=range(2001, 2015))\n",
        "    g.set_ylabels('Number of Planets Discovered')"
      ],
      "execution_count": null,
      "outputs": []
    },
    {
      "cell_type": "markdown",
      "metadata": {
        "id": "6HpaI2ruDuqO"
      },
      "source": [
        "For more information on plotting with Seaborn, see the [Seaborn documentation](http://seaborn.pydata.org/), a [tutorial](http://seaborn.pydata.org/\n",
        "tutorial.htm), and the [Seaborn gallery](http://seaborn.pydata.org/examples/index.html)."
      ]
    },
    {
      "cell_type": "markdown",
      "metadata": {
        "id": "BEIN3FBLDuqO"
      },
      "source": [
        "## Example: Exploring Marathon Finishing Times\n",
        "\n",
        "Here we'll look at using Seaborn to help visualize and understand finishing results from a marathon.\n",
        "I've scraped the data from sources on the Web, aggregated it and removed any identifying information, and put it on GitHub where it can be downloaded\n",
        "(if you are interested in using Python for web scraping, I would recommend [*Web Scraping with Python*](http://shop.oreilly.com/product/0636920034391.do) by Ryan Mitchell).\n",
        "We will start by downloading the data from\n",
        "the Web, and loading it into Pandas:"
      ]
    },
    {
      "cell_type": "code",
      "metadata": {
        "id": "hVJb-4Q9DuqP"
      },
      "source": [
        "# !curl -O https://raw.githubusercontent.com/jakevdp/marathon-data/master/marathon-data.csv"
      ],
      "execution_count": null,
      "outputs": []
    },
    {
      "cell_type": "code",
      "metadata": {
        "id": "hW4UM22fDuqQ"
      },
      "source": [
        "data = pd.read_csv('marathon-data.csv')\n",
        "data.head()"
      ],
      "execution_count": null,
      "outputs": []
    },
    {
      "cell_type": "markdown",
      "metadata": {
        "id": "O3c33ynsDuqS"
      },
      "source": [
        "By default, Pandas loaded the time columns as Python strings (type ``object``); we can see this by looking at the ``dtypes`` attribute of the DataFrame:"
      ]
    },
    {
      "cell_type": "code",
      "metadata": {
        "id": "fl48B5F1DuqT"
      },
      "source": [
        "data.dtypes"
      ],
      "execution_count": null,
      "outputs": []
    },
    {
      "cell_type": "markdown",
      "metadata": {
        "id": "E3o5A2lCDuqU"
      },
      "source": [
        "Let's fix this by providing a converter for the times:"
      ]
    },
    {
      "cell_type": "code",
      "metadata": {
        "id": "TtNt4Ut5DuqV"
      },
      "source": [
        "import datetime\n",
        "\n",
        "def convert_time(s):\n",
        "    h, m, s = map(int, s.split(':'))\n",
        "    return datetime.timedelta(hours=h, minutes=m, seconds=s)\n",
        "\n",
        "data = pd.read_csv('marathon-data.csv',\n",
        "                   converters={'split':convert_time, 'final':convert_time})\n",
        "data.head()"
      ],
      "execution_count": null,
      "outputs": []
    },
    {
      "cell_type": "code",
      "metadata": {
        "id": "P6FVi5mYDuqX"
      },
      "source": [
        "data.dtypes"
      ],
      "execution_count": null,
      "outputs": []
    },
    {
      "cell_type": "markdown",
      "metadata": {
        "id": "C6Gi1Ey6DuqY"
      },
      "source": [
        "That looks much better. For the purpose of our Seaborn plotting utilities, let's next add columns that give the times in seconds:"
      ]
    },
    {
      "cell_type": "code",
      "metadata": {
        "id": "GJJRU4S2DuqZ"
      },
      "source": [
        "data['split_sec'] = data['split'].astype(int) / 1E9\n",
        "data['final_sec'] = data['final'].astype(int) / 1E9\n",
        "data.head()"
      ],
      "execution_count": null,
      "outputs": []
    },
    {
      "cell_type": "markdown",
      "metadata": {
        "id": "viRVNY29Duqa"
      },
      "source": [
        "To get an idea of what the data looks like, we can plot a ``jointplot`` over the data:"
      ]
    },
    {
      "cell_type": "code",
      "metadata": {
        "id": "h-BEmahLDuqb"
      },
      "source": [
        "with sns.axes_style('white'):\n",
        "    g = sns.jointplot(\"split_sec\", \"final_sec\", data, kind='hex')\n",
        "    g.ax_joint.plot(np.linspace(4000, 16000),\n",
        "                    np.linspace(8000, 32000), ':k')"
      ],
      "execution_count": null,
      "outputs": []
    },
    {
      "cell_type": "markdown",
      "metadata": {
        "id": "Oqukjc0-Duqc"
      },
      "source": [
        "The dotted line shows where someone's time would lie if they ran the marathon at a perfectly steady pace. The fact that the distribution lies above this indicates (as you might expect) that most people slow down over the course of the marathon.\n",
        "If you have run competitively, you'll know that those who do the opposite—run faster during the second half of the race—are said to have \"negative-split\" the race.\n",
        "\n",
        "Let's create another column in the data, the split fraction, which measures the degree to which each runner negative-splits or positive-splits the race:"
      ]
    },
    {
      "cell_type": "code",
      "metadata": {
        "id": "DBdwgoUeDuqd"
      },
      "source": [
        "data['split_frac'] = 1 - 2 * data['split_sec'] / data['final_sec']\n",
        "data.head()"
      ],
      "execution_count": null,
      "outputs": []
    },
    {
      "cell_type": "markdown",
      "metadata": {
        "id": "hbuvpd4tDuqe"
      },
      "source": [
        "Where this split difference is less than zero, the person negative-split the race by that fraction.\n",
        "Let's do a distribution plot of this split fraction:"
      ]
    },
    {
      "cell_type": "code",
      "metadata": {
        "id": "e-DupOImDuqf"
      },
      "source": [
        "sns.distplot(data['split_frac'], kde=False);\n",
        "plt.axvline(0, color=\"k\", linestyle=\"--\");"
      ],
      "execution_count": null,
      "outputs": []
    },
    {
      "cell_type": "code",
      "metadata": {
        "id": "-Mjf7e_iDuqg"
      },
      "source": [
        "sum(data.split_frac < 0)"
      ],
      "execution_count": null,
      "outputs": []
    },
    {
      "cell_type": "markdown",
      "metadata": {
        "id": "OxisnLeiDuqi"
      },
      "source": [
        "Out of nearly 40,000 participants, there were only 250 people who negative-split their marathon.\n",
        "\n",
        "Let's see whether there is any correlation between this split fraction and other variables. We'll do this using a ``pairgrid``, which draws plots of all these correlations:"
      ]
    },
    {
      "cell_type": "code",
      "metadata": {
        "id": "xaRHJyJ9Duqj"
      },
      "source": [
        "g = sns.PairGrid(data, vars=['age', 'split_sec', 'final_sec', 'split_frac'],\n",
        "                 hue='gender', palette='RdBu_r')\n",
        "g.map(plt.scatter, alpha=0.8)\n",
        "g.add_legend();"
      ],
      "execution_count": null,
      "outputs": []
    },
    {
      "cell_type": "markdown",
      "metadata": {
        "id": "slnvRoPODuqk"
      },
      "source": [
        "It looks like the split fraction does not correlate particularly with age, but does correlate with the final time: faster runners tend to have closer to even splits on their marathon time.\n",
        "(We see here that Seaborn is no panacea for Matplotlib's ills when it comes to plot styles: in particular, the x-axis labels overlap. Because the output is a simple Matplotlib plot, however, the methods in [Customizing Ticks](04.10-Customizing-Ticks.ipynb) can be used to adjust such things if desired.)\n",
        "\n",
        "The difference between men and women here is interesting. Let's look at the histogram of split fractions for these two groups:"
      ]
    },
    {
      "cell_type": "code",
      "metadata": {
        "id": "KkujhbCADuql"
      },
      "source": [
        "sns.kdeplot(data.split_frac[data.gender=='M'], label='men', shade=True)\n",
        "sns.kdeplot(data.split_frac[data.gender=='W'], label='women', shade=True)\n",
        "plt.xlabel('split_frac');"
      ],
      "execution_count": null,
      "outputs": []
    }
  ]
}